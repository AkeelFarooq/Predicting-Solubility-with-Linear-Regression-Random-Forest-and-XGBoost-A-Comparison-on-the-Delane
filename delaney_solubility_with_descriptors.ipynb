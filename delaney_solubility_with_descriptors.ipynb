{
  "nbformat": 4,
  "nbformat_minor": 0,
  "metadata": {
    "colab": {
      "private_outputs": true,
      "provenance": [],
      "toc_visible": true
    },
    "kernelspec": {
      "name": "python3",
      "display_name": "Python 3"
    },
    "language_info": {
      "name": "python"
    }
  },
  "cells": [
    {
      "cell_type": "markdown",
      "source": [
        "# load Data #"
      ],
      "metadata": {
        "id": "Ngch7HgWEwYo"
      }
    },
    {
      "cell_type": "code",
      "source": [
        "import pandas as pd\n",
        "\n",
        "df = pd.read_csv(\"/content/delaney_solubility_with_descriptors.csv\")\n",
        "df"
      ],
      "metadata": {
        "id": "sCV-sWbjEsmj"
      },
      "execution_count": null,
      "outputs": []
    },
    {
      "cell_type": "markdown",
      "source": [
        "# Data Preparation #"
      ],
      "metadata": {
        "id": "FIPjXAQQpQXm"
      }
    },
    {
      "cell_type": "markdown",
      "source": [
        "## Data separation X and Y ##"
      ],
      "metadata": {
        "id": "PISdaDjBpjM7"
      }
    },
    {
      "cell_type": "code",
      "source": [
        "y = df[\"logS\"]\n",
        "y"
      ],
      "metadata": {
        "id": "ts11xlPdGXoB"
      },
      "execution_count": null,
      "outputs": []
    },
    {
      "cell_type": "code",
      "source": [
        "X = df.drop(\"logS\", axis =1)\n",
        "X"
      ],
      "metadata": {
        "id": "LqoX60-1Gtjv"
      },
      "execution_count": null,
      "outputs": []
    },
    {
      "cell_type": "markdown",
      "source": [
        "## Data Splitting ##"
      ],
      "metadata": {
        "id": "GYx8KqgfFO3x"
      }
    },
    {
      "cell_type": "code",
      "source": [
        "from sklearn.model_selection import train_test_split"
      ],
      "metadata": {
        "id": "fxivleoRsPtQ"
      },
      "execution_count": null,
      "outputs": []
    },
    {
      "cell_type": "code",
      "source": [
        "X_train, X_test, y_train, y_test = train_test_split(X,y, test_size=0.2, random_state = 100)"
      ],
      "metadata": {
        "id": "DAOlz8UtssGq"
      },
      "execution_count": null,
      "outputs": []
    },
    {
      "cell_type": "code",
      "source": [
        "X_train"
      ],
      "metadata": {
        "id": "TJkdl_iFhWW1"
      },
      "execution_count": null,
      "outputs": []
    },
    {
      "cell_type": "code",
      "source": [
        "X_test"
      ],
      "metadata": {
        "id": "_J_osQuxhzYn"
      },
      "execution_count": null,
      "outputs": []
    },
    {
      "cell_type": "code",
      "source": [
        "y_train"
      ],
      "metadata": {
        "id": "-W0GfcmYh5OD"
      },
      "execution_count": null,
      "outputs": []
    },
    {
      "cell_type": "code",
      "source": [
        "y_test"
      ],
      "metadata": {
        "id": "PsQm1ubzudHv"
      },
      "execution_count": null,
      "outputs": []
    },
    {
      "cell_type": "markdown",
      "source": [
        "# Model Building #"
      ],
      "metadata": {
        "id": "tiWzaFfkwBGV"
      }
    },
    {
      "cell_type": "markdown",
      "source": [
        "## Linear Regression ##"
      ],
      "metadata": {
        "id": "JGRaFdP_vzSt"
      }
    },
    {
      "cell_type": "markdown",
      "source": [
        "###**Training the model**"
      ],
      "metadata": {
        "id": "jOgIp4Pnxk02"
      }
    },
    {
      "cell_type": "code",
      "source": [
        "from sklearn.linear_model import LinearRegression"
      ],
      "metadata": {
        "id": "a6PF-iXvunPK"
      },
      "execution_count": null,
      "outputs": []
    },
    {
      "cell_type": "code",
      "source": [
        "lr = LinearRegression()\n",
        "lr.fit(X_train, y_train)"
      ],
      "metadata": {
        "id": "uxz-Ov2hunSU"
      },
      "execution_count": null,
      "outputs": []
    },
    {
      "cell_type": "markdown",
      "source": [
        "###**Applying the model to make prediction**"
      ],
      "metadata": {
        "id": "x1XqHkGkb2xq"
      }
    },
    {
      "cell_type": "code",
      "source": [
        "y_lr_train_predict = lr.predict(X_train)\n",
        "y_lr_test_predict = lr.predict(X_test)\n",
        "\n",
        "print(y_lr_train_predict,y_lr_test_predict)"
      ],
      "metadata": {
        "id": "xqhkkWS1unVe"
      },
      "execution_count": null,
      "outputs": []
    },
    {
      "cell_type": "markdown",
      "source": [
        "###**Evaluate model performance**"
      ],
      "metadata": {
        "id": "uUa3EkAAz_PH"
      }
    },
    {
      "cell_type": "code",
      "source": [
        "from sklearn.metrics import mean_squared_error, r2_score, accuracy_score\n",
        "\n",
        "lr_train_mse = mean_squared_error(y_train,y_lr_train_predict)\n",
        "lr_train_r2 = r2_score(y_train,y_lr_train_predict)\n",
        "\n",
        "\n",
        "lr_test_mse = mean_squared_error(y_test,y_lr_test_predict)\n",
        "lr_test_r2 = r2_score(y_test,y_lr_test_predict)"
      ],
      "metadata": {
        "id": "oa9HEWyeuniO"
      },
      "execution_count": null,
      "outputs": []
    },
    {
      "cell_type": "code",
      "source": [
        "print(\"Lr MSE (train): \", lr_train_mse)\n",
        "print(\"Lr r2 (train): \", lr_train_r2 )\n",
        "print(\"Lr MSE (test): \", lr_test_mse)\n",
        "print(\"Lr r2 (test): \", lr_test_r2)"
      ],
      "metadata": {
        "id": "ETzAcE_0unlS"
      },
      "execution_count": null,
      "outputs": []
    },
    {
      "cell_type": "code",
      "source": [
        "lr_results = pd.DataFrame([\"Linear regression\",lr_train_mse, lr_train_r2, lr_test_mse,lr_test_r2]).transpose()\n",
        "lr_results.columns = ['Method', 'Training MSE', 'Training R2', 'Test MSE', 'Test R2']\n",
        "lr_results"
      ],
      "metadata": {
        "id": "gi0rd-Xmunoy"
      },
      "execution_count": null,
      "outputs": []
    },
    {
      "cell_type": "markdown",
      "source": [
        "## **RandomForest ##**"
      ],
      "metadata": {
        "id": "I_MhEYHdcQjH"
      }
    },
    {
      "cell_type": "markdown",
      "source": [
        "### Training the model"
      ],
      "metadata": {
        "id": "Yl_c8zhfdO9h"
      }
    },
    {
      "cell_type": "code",
      "source": [
        "from sklearn.ensemble import RandomForestRegressor\n",
        "\n",
        "rf = RandomForestRegressor(max_depth=5, random_state=100)\n",
        "rf.fit(X_train, y_train)"
      ],
      "metadata": {
        "id": "mJ1xwsjVcPUv"
      },
      "execution_count": null,
      "outputs": []
    },
    {
      "cell_type": "markdown",
      "source": [
        "###**Applying model**"
      ],
      "metadata": {
        "id": "QnVE9B0he50a"
      }
    },
    {
      "cell_type": "code",
      "source": [
        "y_rf_train_pred = rf.predict(X_train)\n",
        "y_rf_test_pred = rf.predict(X_test)"
      ],
      "metadata": {
        "id": "mUeSlTM-3_03"
      },
      "execution_count": null,
      "outputs": []
    },
    {
      "cell_type": "markdown",
      "source": [
        "###**Evaluate model performance**"
      ],
      "metadata": {
        "id": "n4MdC8VsfIYP"
      }
    },
    {
      "cell_type": "code",
      "source": [
        "from sklearn.metrics import mean_squared_error, r2_score\n",
        "\n",
        "rf_train_mse = mean_squared_error(y_train, y_rf_train_pred)\n",
        "rf_train_r2 = r2_score(y_train, y_rf_train_pred)\n",
        "\n",
        "rf_test_mse = mean_squared_error(y_test, y_rf_test_pred)\n",
        "rf_test_r2 = r2_score(y_test, y_rf_test_pred)"
      ],
      "metadata": {
        "id": "G2T-B868fMma"
      },
      "execution_count": null,
      "outputs": []
    },
    {
      "cell_type": "code",
      "source": [
        "rf_results = pd.DataFrame(['Random forest', rf_train_mse, rf_train_r2, rf_test_mse, rf_test_r2]).transpose()\n",
        "rf_results.columns = ['Method', 'Training MSE', 'Training R2', 'Test MSE', 'Test R2']\n",
        "rf_results"
      ],
      "metadata": {
        "id": "hO80T6TTfi2S"
      },
      "execution_count": null,
      "outputs": []
    },
    {
      "cell_type": "markdown",
      "source": [
        "## **xgboost**"
      ],
      "metadata": {
        "id": "bO8gmHjrmJ2V"
      }
    },
    {
      "cell_type": "markdown",
      "source": [
        "### Training the model"
      ],
      "metadata": {
        "id": "nOAMNX6UmKCI"
      }
    },
    {
      "cell_type": "code",
      "source": [
        "from xgboost import XGBRegressor\n",
        "\n",
        "# Create an instance of XGBRegressor\n",
        "xg = XGBRegressor(max_depth= 3, random_state=100)\n",
        "\n",
        "# Train the model on the training data\n",
        "xg.fit(X_train, y_train)"
      ],
      "metadata": {
        "id": "dvKP-4L9leCs"
      },
      "execution_count": null,
      "outputs": []
    },
    {
      "cell_type": "markdown",
      "source": [
        "###**Applying model**"
      ],
      "metadata": {
        "id": "wac5HklHmVLl"
      }
    },
    {
      "cell_type": "code",
      "source": [
        "# Predict values for the test data\n",
        "y_xg_train_pred = xg.predict(X_train)\n",
        "y_xg_test_pred = xg.predict(X_test)"
      ],
      "metadata": {
        "id": "KuR24iWBleau"
      },
      "execution_count": null,
      "outputs": []
    },
    {
      "cell_type": "markdown",
      "source": [
        "###**Evaluate model performance**"
      ],
      "metadata": {
        "id": "ZpRW8dBWmw5f"
      }
    },
    {
      "cell_type": "code",
      "source": [
        "from sklearn.metrics import mean_squared_error, r2_score\n",
        "\n",
        "xg_train_mse = mean_squared_error(y_train, y_xg_train_pred)\n",
        "xg_train_r2 = r2_score(y_train, y_xg_train_pred)\n",
        "\n",
        "xg_test_mse = mean_squared_error(y_test, y_xg_test_pred)\n",
        "xg_test_r2 = r2_score(y_test, y_xg_test_pred)"
      ],
      "metadata": {
        "id": "WAHM_MOfm2Co"
      },
      "execution_count": null,
      "outputs": []
    },
    {
      "cell_type": "code",
      "source": [
        "xg_results = pd.DataFrame(['XGboost', xg_train_mse, xg_train_r2, xg_test_mse, xg_test_r2]).transpose()\n",
        "xg_results.columns = ['Method', 'Training MSE', 'Training R2', 'Test MSE', 'Test R2']\n",
        "xg_results"
      ],
      "metadata": {
        "id": "Pkr_NJ1cm2Cp"
      },
      "execution_count": null,
      "outputs": []
    },
    {
      "cell_type": "markdown",
      "source": [
        "## **Model comparison**"
      ],
      "metadata": {
        "id": "O_ABH6LIgteS"
      }
    },
    {
      "cell_type": "code",
      "source": [
        "df_models = pd.concat([lr_results, rf_results, xg_results], axis = 0 )\n",
        "df_models"
      ],
      "metadata": {
        "id": "5h1MKnp2getZ"
      },
      "execution_count": null,
      "outputs": []
    },
    {
      "cell_type": "code",
      "source": [
        "df_models.reset_index(drop=True)\n",
        "     "
      ],
      "metadata": {
        "id": "Yin35EDVhjgR"
      },
      "execution_count": null,
      "outputs": []
    },
    {
      "cell_type": "markdown",
      "source": [
        "#Data visualization of prediction results"
      ],
      "metadata": {
        "id": "HgSTnd-cpLB6"
      }
    },
    {
      "cell_type": "code",
      "source": [
        "import matplotlib.pyplot as plt\n",
        "import numpy as np\n",
        "\n",
        "plt.figure(figsize=(5,5))\n",
        "plt.scatter(x=y_train,\n",
        "            y=y_lr_train_predict,  c=\"#7CAE00\" ,alpha=0.3)\n",
        "\n",
        "z = np.polyfit(y_train, y_lr_train_predict, 1)\n",
        "p = np.poly1d(z)\n",
        "\n",
        "plt.plot(y_train, p(y_train), '#F8766D')\n",
        "plt.ylabel('Predict LogS')\n",
        "plt.xlabel('Experimental LogS')\n",
        "     "
      ],
      "metadata": {
        "id": "X0SuhNhJoH8E"
      },
      "execution_count": null,
      "outputs": []
    },
    {
      "cell_type": "code",
      "source": [
        "import matplotlib.pyplot as plt\n",
        "import numpy as np\n",
        "\n",
        "plt.figure(figsize=(5,5))\n",
        "plt.scatter(x=y_train,\n",
        "            y=y_rf_train_pred ,  c=\"#7CAE00\" ,alpha=0.3)\n",
        "\n",
        "z = np.polyfit(y_train, y_rf_train_pred , 1)\n",
        "p = np.poly1d(z)\n",
        "\n",
        "plt.plot(y_train, p(y_train), '#F8766D')\n",
        "plt.ylabel('Predict LogS')\n",
        "plt.xlabel('Experimental LogS')\n",
        "\n",
        " "
      ],
      "metadata": {
        "id": "v8x2N2zTJajH"
      },
      "execution_count": null,
      "outputs": []
    },
    {
      "cell_type": "code",
      "source": [
        "import matplotlib.pyplot as plt\n",
        "import numpy as np\n",
        "\n",
        "plt.figure(figsize=(5,5))\n",
        "plt.scatter(x=y_train,\n",
        "            y=y_xg_train_pred ,  c=\"#7CAE00\" ,alpha=0.3)\n",
        "\n",
        "z = np.polyfit(y_train, y_xg_train_pred , 1)\n",
        "p = np.poly1d(z)\n",
        "\n",
        "plt.plot(y_train, p(y_train), '#F8766D')\n",
        "plt.ylabel('Predict LogS')\n",
        "plt.xlabel('Experimental LogS')"
      ],
      "metadata": {
        "id": "pRidXHF9J_dP"
      },
      "execution_count": null,
      "outputs": []
    },
    {
      "cell_type": "code",
      "source": [
        "!jupyter nbconvert --to html /content/delaney_solubility_with_descriptors.ipynb"
      ],
      "metadata": {
        "id": "MZl-FG3TLk8t"
      },
      "execution_count": null,
      "outputs": []
    }
  ]
}